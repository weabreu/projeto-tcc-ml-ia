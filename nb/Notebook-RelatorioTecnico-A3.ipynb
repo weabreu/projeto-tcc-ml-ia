{
 "cells": [
  {
   "cell_type": "markdown",
   "metadata": {
    "_uuid": "6f48c282806bc5daa7d48d439b3d25ea4533e83f"
   },
   "source": [
    "# **NOTEBOOK DO RELATÓRIO TÉCNICO**\n",
    "\n",
    "Jupyter Notebook do **Projeto de Conclusão de Curso de Especialização em Inteligência Artificial e Aprendizagem de Máquina** da PUC MInas."
   ]
  },
  {
   "cell_type": "markdown",
   "metadata": {},
   "source": [
    "### **Aluno**: Wagner Evangelista de Abreu"
   ]
  },
  {
   "cell_type": "markdown",
   "metadata": {},
   "source": [
    "### Pipeline do Projeto:\n",
    "* Importação das Bibliotecas\n",
    "* Leitura e Carregamento dos Dados\n",
    "* Pré-processamento dos dados\n",
    "* Análise Exploratória dos Dados <font color='yellow'>(Não implementado)</font>\n",
    "* Construção do Modelo <font color='yellow'>(Não implementado)</font>\n",
    "* Predições <font color='yellow'>(Não implementado)</font>\n",
    "* Visualizações <font color='yellow'>(Não implementado)</font>\n",
    "* Conclusão <font color='yellow'>(Não implementado)</font>"
   ]
  },
  {
   "cell_type": "markdown",
   "metadata": {
    "id": "DGpP8b4LpHyy"
   },
   "source": [
    "# Importação das Bibliotecas"
   ]
  },
  {
   "cell_type": "code",
   "execution_count": 1,
   "metadata": {
    "id": "-htZvnpCpwgz"
   },
   "outputs": [],
   "source": [
    "import pandas as pd\n",
    "import numpy as np\n",
    "\n",
    "import matplotlib.pyplot as plt\n",
    "import math\n",
    "\n",
    "from tensorflow.keras import Sequential\n",
    "from tensorflow.keras.layers import Dense, SimpleRNN, Dropout, LSTM, GRU, Bidirectional\n",
    "from tensorflow.keras.models import load_model # returns a compiled model\n",
    "from tensorflow.keras.metrics import mean_squared_error\n",
    "from tensorflow.keras.utils import plot_model\n",
    "\n",
    "from sklearn.preprocessing import MinMaxScaler\n",
    "\n",
    "import os\n",
    "os.environ['TF_CPP_MIN_LOG_LEVEL'] = '2'\n",
    "os.environ[\"KMP_DUPLICATE_LIB_OK\"]=\"TRUE\"\n",
    "\n",
    "%matplotlib inline\n",
    "pd.set_option('display.max_columns', None)\n",
    "import warnings\n",
    "warnings.filterwarnings('ignore')"
   ]
  },
  {
   "cell_type": "markdown",
   "metadata": {
    "id": "PneOGrCWpKWa"
   },
   "source": [
    "# Carregamento dos dados"
   ]
  },
  {
   "cell_type": "code",
   "execution_count": 2,
   "metadata": {
    "scrolled": true
   },
   "outputs": [],
   "source": [
    "# Procedimento para realizar a mesclagem dos arquivos \n",
    "def merge_files(\n",
    "    input_folder, \n",
    "    output_folder, \n",
    "    output_file='output_',\n",
    "    skiprows=0):\n",
    "    # Mesclar os arquivos e exporta para uma pasta local\n",
    "    import pandas as pd\n",
    "    from os import listdir\n",
    "    from os.path import isfile, join  \n",
    "\n",
    "    # obtendo a lista de arquivos na pasta\n",
    "    files = [f for f in listdir(input_folder) if isfile(join(input_folder, f))]\n",
    "    df_to_export = pd.DataFrame()\n",
    "\n",
    "    # Varre todos arquivos da pasta\n",
    "    for i in range(len(files)):\n",
    "        complete_file_path = input_folder + files[i]\n",
    "        # carregando o arquivo\n",
    "        df = pd.read_csv(\n",
    "            complete_file_path, \n",
    "            skiprows=skiprows, delimiter =';', \n",
    "            encoding=\"latin-1\", \n",
    "            error_bad_lines = False\n",
    "            )\n",
    "        # Apaga colunas Unnamed\n",
    "        df.drop(\n",
    "            df.columns[df.columns.str.contains(\n",
    "                'Unnamed', case=False)], \n",
    "                axis=1, inplace=True)\n",
    "        \n",
    "        # mesclando os arquivos\n",
    "        df_to_export = pd.concat([df_to_export, df], ignore_index=True)\n",
    "\n",
    "    df_to_export.drop_duplicates(keep = 'last', inplace = True)\n",
    "    # Exportando arquivo\n",
    "    df_to_export.to_csv(\n",
    "        output_folder + output_file + '.csv', sep=';',\n",
    "        index=None,\n",
    "        header=True,\n",
    "        encoding=\"utf-8\"\n",
    "    )"
   ]
  },
  {
   "cell_type": "code",
   "execution_count": 3,
   "metadata": {},
   "outputs": [],
   "source": [
    "def filtering_data(\n",
    "    dataframe, \n",
    "    campos_cidades=[],\n",
    "    cidade_uf='',\n",
    "    data_ref='data_inicio_viagem',\n",
    "    ano_inicio=2007,\n",
    "    ano_fim=2019):\n",
    "    # Filtra o local de referência (origem ou destino) da viagem e retorna um dataframe Pandas\n",
    "    # Argumentos:\n",
    "    # - dataframe: dataframe resultante do processo anterior    \n",
    "    # - campos_cidade (opcional): campo de referência contendo cidade e uf.\n",
    "    #   Se não for fornecido, nenhum cidade é filtrada\n",
    "    # - cidade_uf(opcional): nome e uf da cidade a ser filtrada\n",
    "    #   Se não for fornecido, nenhum cidade é filtrada\n",
    "\n",
    "    # Filtrando por ano de início\n",
    "    dataframe = dataframe[pd.to_datetime(dataframe[data_ref]).dt.year >=ano_inicio]\n",
    "    # Filtrando por ano de término\n",
    "    dataframe = dataframe[pd.to_datetime(dataframe[data_ref]).dt.year <=ano_fim]\n",
    "    # Eliminando registro em que data_inicio_viagem é vazia\n",
    "    dataframe = dataframe[dataframe['data_inicio_viagem'].isna()==False]\n",
    "    # Eliminando registro em que data_fim_viagem é vazia\n",
    "    dataframe = dataframe[dataframe['data_fim_viagem'].isna()==False]\n",
    "    # Eliminando registros em que a data de término seja anterior à data de início\n",
    "    dataframe = dataframe[dataframe['data_inicio_viagem']<=dataframe['data_fim_viagem']]\n",
    "\n",
    "    \n",
    "    # Filtrando pelo campo e localidade de referência\n",
    "    if len(campos_cidades) != 0:\n",
    "        total_linhas = dataframe.shape[0]\n",
    "        dataframe = \\\n",
    "            dataframe[(dataframe[campos_cidades['cidade']] == cidade_uf['cidade']) & (\n",
    "                dataframe[campos_cidades['uf']] == cidade_uf['uf'])]\n",
    "        percentual = np.round(dataframe.shape[0]/total_linhas*100, 2)\n",
    "        print(f'Percentual de viagens filtradas: {percentual} %')\n",
    "        \n",
    "    return dataframe\n",
    "\n",
    "def filling_missing_data(dataframe):\n",
    "    # Checa se estão faltando datas no intervalo em estudo\n",
    "    # e retorna um dataframe\n",
    "    # Argumentos:\n",
    "    # - dataframe: dataframe resultante do processo anterior\n",
    "\n",
    "    # transnformando valores 0 da serie em NaN\n",
    "    dataframe['total_passageiros'][dataframe['total_passageiros']==0] = np.nan\n",
    "    \n",
    "    # obtendo a lista de valores faltantes\n",
    "    df_missing_data = dataframe[dataframe['total_passageiros'].isna()] \n",
    "    percentual = np.round(df_missing_data.shape[0]/dataframe.shape[0]*100, 2)\n",
    "    print(f'Dados faltantes: {df_missing_data.shape[0]}')\n",
    "    print(f'Total de linhas: {dataframe.shape[0]}')\n",
    "\n",
    "    print(f'Percentual de dados faltantes: {percentual} %')\n",
    "    print(df_missing_data)\n",
    "\n",
    "    # preenchendo os valores faltantes com o método  interpolate \n",
    "    # e argumento method='time'\n",
    "    dataframe = dataframe.interpolate(method='time').astype(int)\n",
    "    \n",
    "    del df_missing_data\n",
    "\n",
    "    return dataframe\n",
    "\n",
    "def groupby_day(dataframe, date_input):\n",
    "    # Agrupa os dados por dia de acordo com o campo de data de final de referencia e \n",
    "    # retorna um dataframe\n",
    "    # Argumentos:\n",
    "    # - dataframe: dataframe resultante do processo anterior\n",
    "    # - date_input: data de entrada (data_inicio_viagem, data_fim_viagem)\n",
    "\n",
    "    # Se a date_input for igual a data_inicio_viagem a serie é obtida a série com base na origem da viagem\n",
    "    # se a date_input for posterior a data_inicio_viagem, a série obtida baseia-se no destino da viagem\n",
    "\n",
    "    # Transforma data_inicio_viagem e date_input em datetime\n",
    "    dataframe['data_inicio_viagem'] = pd.to_datetime(\n",
    "        dataframe['data_inicio_viagem'], infer_datetime_format=True)     \n",
    "    dataframe[date_input] = pd.to_datetime(\n",
    "        dataframe[date_input], infer_datetime_format=True)\n",
    "    \n",
    "    # Obtém a data de referência\n",
    "    dataframe['dias'] = \\\n",
    "       (dataframe[date_input] - dataframe['data_inicio_viagem']).dt.days\n",
    "    \n",
    "    # Obtém a data no local de referencia\n",
    "    dataframe['dias'] = dataframe['dias'].apply(lambda x: math.ceil(x/2))\n",
    "    dataframe['data_ref'] = dataframe['data_inicio_viagem'] +\\\n",
    "         pd.to_timedelta(dataframe['dias'], unit='d')\n",
    "\n",
    "    # Agrupa a série pela data de referência\n",
    "    dataframe = dataframe.groupby(\n",
    "       'data_ref', group_keys=False)[\"total_passageiros\"].sum().reset_index()\n",
    "    dataframe['index'] = dataframe['data_ref']\n",
    "    dataframe = dataframe.set_index(['index'])  \n",
    "\n",
    "    # Obtendo a série temporal diária \n",
    "    agg = {'total_passageiros':'sum'}\n",
    "    dataframe = dataframe.resample('D', on='data_ref').agg(agg)\n",
    "\n",
    "    return dataframe\n",
    "    \n",
    "\n",
    "def load_dataset(file_path):\n",
    "    # Carrega o dataset e retorna um dataframe Pandas\n",
    "    # Argumento:\n",
    "    # - file_path: caminho do arquivo a ser carregado\n",
    "    \n",
    "    date_column = ['data_inicio_viagem', 'data_fim_viagem']\n",
    "    dataframe = pd.read_csv(\n",
    "        file_path, engine='python', delimiter=';', \n",
    "        parse_dates=date_column, dayfirst=True)    \n",
    "    dataframe.drop_duplicates(inplace=True)\n",
    "\n",
    "    return dataframe\n",
    "    \n",
    "def including_new_features(dataframe):\n",
    "    # Inclui os atributos de feriado disponíveis no arquivo feriados_nacionais.csv e\n",
    "    # retorna um dataframe Pandas \n",
    "    # Argumentos:\n",
    "    # - dataframe: dataframe resultante do processo anterior\n",
    "\n",
    "    # Carrega o arquivo contendo as datas com os feriados nacionais no período\n",
    "    df_feriados = pd.read_csv(\n",
    "        '../../dataset/raw/outros_atributos.csv',\n",
    "        engine='python',\n",
    "        delimiter=';')\n",
    "    dataframe['data_ref'] = dataframe.index.to_series()\n",
    "\n",
    "    # Transforma data_feriado em datetime\n",
    "    df_feriados['data_feriado'] = pd.to_datetime(\n",
    "        df_feriados['data_feriado'], format='%d/%m/%Y')   \n",
    "           \n",
    "    # Mescla os dataframes a partir da data de feriado\n",
    "    dataframe = pd.merge(\n",
    "        dataframe,\n",
    "        df_feriados,\n",
    "        left_index=True, right_on='data_feriado').drop(columns=['data_feriado'])   \n",
    "    del df_feriados\n",
    "    dataframe = dataframe.set_index(['data_ref'])  \n",
    "\n",
    "    return dataframe    \n",
    "\n",
    "def get_series(dataframe, periodicidade='D'):\n",
    "    # Obtém a série temporalenriquecida e agregada por uma periodicidade e\n",
    "    # retorna um dataframe Pandas \n",
    "    # Argumentos:\n",
    "    # - dataframe: dataframe resultante do processo anterior\n",
    "    # - periodicidade: 'D' - diária (default), 'W' - semanal, 'M' - mensal\n",
    "    \n",
    "    # Acrescenta uma coluna com uma nova feição: se a data é feriado ou não\n",
    "    dataframe = including_new_features(dataframe)\n",
    "\n",
    "    # Transforma a coluna de data de referência para o formato datetime\n",
    "    dataframe['data_ref'] = pd.to_datetime(\n",
    "        dataframe.index.to_series(), infer_datetime_format=True)    \n",
    "\n",
    "    # Define os atributos de agregação\n",
    "    agg = {\n",
    "        'total_passageiros':'sum',\n",
    "        'feriado':'sum',\n",
    "        'doze_outubro':'sum',\n",
    "        'papa_aparecida':'sum'}\n",
    "    # Obtém o dataframe agregado de acordo com a periodicidade definida\n",
    "    dataframe = dataframe.resample(periodicidade).agg(agg)             \n",
    "\n",
    "    # Se a periodicidade for diária, transforma o índice em uma coluna datetime e \n",
    "    # obtém o dia da semana (0-domingo, 1-segunda-feira, 2-terça-feira, 3-quarta-feira, \n",
    "    # 4-quinta-feira, 5-sexta-feira, 6-sábado)\n",
    "    if periodicidade == 'D':\n",
    "        date_series = pd.to_datetime(\n",
    "                dataframe.index.to_series(), infer_datetime_format=True)         \n",
    "        dataframe['dia_semana'] = date_series.dt.dayofweek                \n",
    "\n",
    "\n",
    "    # Se periodicidade é mensal, obtém a série configando o indice como ano/mês\n",
    "    if periodicidade == 'M':\n",
    "        dataframe = dataframe.set_index(dataframe.index.strftime('%Y/%m'))        \n",
    "\n",
    "    return dataframe    \n",
    "    "
   ]
  },
  {
   "cell_type": "code",
   "execution_count": 4,
   "metadata": {
    "collapsed": true
   },
   "outputs": [
    {
     "name": "stdout",
     "output_type": "stream",
     "text": [
      "Dados faltantes: 9\n",
      "Total de linhas: 4770\n",
      "Percentual de dados faltantes: 0.19 %\n",
      "            total_passageiros\n",
      "data_ref                     \n",
      "2020-01-09                NaN\n",
      "2020-01-10                NaN\n",
      "2020-01-11                NaN\n",
      "2020-01-12                NaN\n",
      "2020-01-17                NaN\n",
      "2020-01-18                NaN\n",
      "2020-01-19                NaN\n",
      "2020-01-20                NaN\n",
      "2020-01-21                NaN\n"
     ]
    }
   ],
   "source": [
    "# Periodicidade da série ('M' - mensal; 'W' - semanal; e 'D' - diária)\n",
    "periodicidade = 'D'\n",
    "\n",
    "# Campos de referência das localidades:\n",
    "# - município: municipio_origem, municipiodestino; e\n",
    "# - uf: uf_municipio_origem, uf_municipio_destino.\n",
    "campos_cidades = {'cidade': 'municipiodestino', 'uf': 'uf_municipio_destino'}\n",
    "\n",
    "# Cidade e UF de referência\n",
    "cidade_uf = {'cidade': 'APARECIDA', 'uf': 'SP'}\n",
    "\n",
    "# Data de referência (data_inicio_viagem; data_fim_viagem)\n",
    "data_ref = 'data_fim_viagem'\n",
    "\n",
    "# Caminho completo do arquivo\n",
    "arquivo = '../../dataset/raw/data_fret.csv'\n",
    "data = (\n",
    "    load_dataset(arquivo)  # carregamento dos dados\n",
    "    .pipe(filtering_data, campos_cidades, cidade_uf, data_ref, 2007, 2019)  # filtragem do local de referência\n",
    "    .pipe(groupby_day, data_ref)  # agrupamento pela data de referência\n",
    "    .pipe(filling_missing_data)  # preenchendo valores faltantes\n",
    "    .pipe(get_series, periodicidade)  # obtém a série temporal finals\n",
    ")"
   ]
  },
  {
   "cell_type": "markdown",
   "metadata": {},
   "source": [
    "# Análise Exploratória de Dados"
   ]
  },
  {
   "cell_type": "code",
   "execution_count": 6,
   "metadata": {},
   "outputs": [],
   "source": [
    "def plot_series(data, axis_x):\n",
    "    dataset = pd.DataFrame(data.values)\n",
    "    groups = dataset.columns\n",
    "    column_names = data.columns\n",
    "    i = 1\n",
    "    fig = plt.figure();\n",
    "    fig.tight_layout();\n",
    "    plt.figure(figsize=(12, 12));\n",
    "    for group in groups:\n",
    "        plt.subplot(len(groups), 1, i, );\n",
    "        plt.plot(pd.to_datetime(axis_x), data.values[:, group]);\n",
    "        plt.xticks(rotation=90);\n",
    "        plt.title(column_names[group], y=1, loc='left', pad=-60)\n",
    "        plt.title(column_names[group], loc='left', pad=-80);\n",
    "        i += 1\n",
    "        plt.subplots_adjust(hspace = 0.5)\n",
    "        fig.tight_layout();\n",
    "    plt.show();\n",
    "    plt.tight_layout();"
   ]
  },
  {
   "cell_type": "code",
   "execution_count": 7,
   "metadata": {},
   "outputs": [
    {
     "data": {
      "text/plain": [
       "<Figure size 432x288 with 0 Axes>"
      ]
     },
     "metadata": {},
     "output_type": "display_data"
    },
    {
     "data": {
      "image/png": "[encoded data removed]",
      "text/plain": [
       "<Figure size 864x864 with 5 Axes>"
      ]
     },
     "metadata": {
      "needs_background": "light"
     },
     "output_type": "display_data"
    },
    {
     "data": {
      "text/plain": [
       "<Figure size 432x288 with 0 Axes>"
      ]
     },
     "metadata": {},
     "output_type": "display_data"
    }
   ],
   "source": [
    "plot_series(data, data.index.values);"
   ]
  }
 ],
 "metadata": {
  "accelerator": "GPU",
  "colab": {
   "collapsed_sections": [],
   "name": "ML_Projeto_House_Rocket_1.ipynb",
   "provenance": []
  },
  "interpreter": {
   "hash": "01706b707b40b8f5e025bf4eb629a73f0a0245361ef799d7c7ceb7c680a44410"
  },
  "kernelspec": {
   "display_name": "Python 3.9.7 ('tf_env')",
   "language": "python",
   "name": "python3"
  },
  "language_info": {
   "codemirror_mode": {
    "name": "ipython",
    "version": 3
   },
   "file_extension": ".py",
   "mimetype": "text/x-python",
   "name": "python",
   "nbconvert_exporter": "python",
   "pygments_lexer": "ipython3",
   "version": "3.9.7"
  }
 },
 "nbformat": 4,
 "nbformat_minor": 1
}
